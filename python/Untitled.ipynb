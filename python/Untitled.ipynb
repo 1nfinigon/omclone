{
 "cells": [
  {
   "cell_type": "code",
   "execution_count": null,
   "id": "16f741e0-6ca5-4ff3-91ee-6ca05cc6371d",
   "metadata": {},
   "outputs": [],
   "source": [
    "%load_ext autoreload\n",
    "%autoreload 2"
   ]
  },
  {
   "cell_type": "code",
   "execution_count": null,
   "id": "a86d83b5-b8d1-4747-a152-7c89b5235a98",
   "metadata": {},
   "outputs": [],
   "source": [
    "import repl"
   ]
  },
  {
   "cell_type": "code",
   "execution_count": null,
   "id": "c56bd298-6e78-4056-9e25-9c3ae4704238",
   "metadata": {},
   "outputs": [],
   "source": [
    "repl = repl.Repl()"
   ]
  },
  {
   "cell_type": "code",
   "execution_count": null,
   "id": "eb559a5f-203f-4972-90f5-e38d9f1a2aa0",
   "metadata": {},
   "outputs": [],
   "source": [
    "repl.run('load')"
   ]
  },
  {
   "cell_type": "code",
   "execution_count": null,
   "id": "22b9e796-7454-4c97-9a38-a99768e764bb",
   "metadata": {},
   "outputs": [],
   "source": [
    "repl.run('cycle 1234')"
   ]
  },
  {
   "cell_type": "code",
   "execution_count": null,
   "id": "34129390-2a43-4da3-a717-3bedd4f78918",
   "metadata": {},
   "outputs": [],
   "source": [
    "repl.run(['render', '--filename', '/tmp/output.png'])"
   ]
  },
  {
   "cell_type": "code",
   "execution_count": null,
   "id": "0bca2776-b30d-49a2-a4ba-eea50c0c7f3b",
   "metadata": {},
   "outputs": [],
   "source": [
    "repl.run(['nn.save_input', '/tmp/inputs.npz'])"
   ]
  },
  {
   "cell_type": "code",
   "execution_count": null,
   "id": "e6e573ce-75fe-4ea0-9e43-1a32120727d4",
   "metadata": {},
   "outputs": [],
   "source": [
    "del repl"
   ]
  },
  {
   "cell_type": "code",
   "execution_count": null,
   "id": "c7cdb33f-7009-4b9a-987e-94aa705ab919",
   "metadata": {},
   "outputs": [],
   "source": [
    "import numpy\n",
    "inputs = numpy.load('/tmp/inputs.npz')\n",
    "inputs"
   ]
  },
  {
   "cell_type": "code",
   "execution_count": null,
   "id": "0cd80835-4ad4-4190-9229-9e9addb93594",
   "metadata": {},
   "outputs": [],
   "source": [
    "from IPython.display import Image\n",
    "Image(filename='/tmp/output.png') "
   ]
  },
  {
   "cell_type": "code",
   "execution_count": null,
   "id": "f92b814b-eb96-4fb8-9e42-5aaadf15b17c",
   "metadata": {},
   "outputs": [],
   "source": []
  }
 ],
 "metadata": {
  "kernelspec": {
   "display_name": "Python 3 (ipykernel)",
   "language": "python",
   "name": "python3"
  },
  "language_info": {
   "codemirror_mode": {
    "name": "ipython",
    "version": 3
   },
   "file_extension": ".py",
   "mimetype": "text/x-python",
   "name": "python",
   "nbconvert_exporter": "python",
   "pygments_lexer": "ipython3",
   "version": "3.12.7"
  }
 },
 "nbformat": 4,
 "nbformat_minor": 5
}
