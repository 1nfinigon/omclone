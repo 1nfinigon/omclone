{
 "cells": [
  {
   "cell_type": "code",
   "execution_count": null,
   "id": "16f741e0-6ca5-4ff3-91ee-6ca05cc6371d",
   "metadata": {},
   "outputs": [],
   "source": [
    "%load_ext autoreload\n",
    "%autoreload 2"
   ]
  },
  {
   "cell_type": "code",
   "execution_count": null,
   "id": "a86d83b5-b8d1-4747-a152-7c89b5235a98",
   "metadata": {},
   "outputs": [],
   "source": [
    "import math\n",
    "import repl"
   ]
  },
  {
   "cell_type": "code",
   "execution_count": null,
   "id": "c56bd298-6e78-4056-9e25-9c3ae4704238",
   "metadata": {},
   "outputs": [],
   "source": [
    "repl = repl.Repl()"
   ]
  },
  {
   "cell_type": "code",
   "execution_count": null,
   "id": "eb559a5f-203f-4972-90f5-e38d9f1a2aa0",
   "metadata": {},
   "outputs": [],
   "source": [
    "repl.run(['load', '--recentre-to-fit-within-nn-bounds'])\n",
    "repl.run('cycle 140')"
   ]
  },
  {
   "cell_type": "code",
   "execution_count": null,
   "id": "34129390-2a43-4da3-a717-3bedd4f78918",
   "metadata": {},
   "outputs": [],
   "source": [
    "NN_W = 16\n",
    "NN_H = 16\n",
    "gfx_pos_bb_left = -1\n",
    "gfx_pos_bb_right = 1 + (NN_W-1) * 2 + (NN_H-1)\n",
    "gfx_pos_bb_bottom = -1\n",
    "gfx_pos_bb_top = 1 + (NN_H-1) * math.sqrt(3)\n",
    "gfx_pos_centre_x = (gfx_pos_bb_left + gfx_pos_bb_right) / 2\n",
    "gfx_pos_centre_y = (gfx_pos_bb_bottom + gfx_pos_bb_top) / 2\n",
    "gfx_width = gfx_pos_bb_right - gfx_pos_bb_left\n",
    "gfx_height = gfx_pos_bb_top - gfx_pos_bb_bottom\n",
    "gfx_scale = 25\n",
    "repl.run(['render',\n",
    "          '--filename', '/tmp/output.png',\n",
    "          '--offset', ','.join(map(str, [-gfx_pos_centre_x, -gfx_pos_centre_y])),\n",
    "          '--scale', str(gfx_scale),\n",
    "          '--size', 'x'.join([str(int(math.ceil(f))) for f in [gfx_width * gfx_scale, gfx_height * gfx_scale]])])\n",
    "repl.run(['nn.save_input', '/tmp/inputs.npz'])"
   ]
  },
  {
   "cell_type": "code",
   "execution_count": null,
   "id": "8914cddc-5c35-4ed3-8660-9e4c5830772a",
   "metadata": {},
   "outputs": [],
   "source": [
    "import matplotlib\n",
    "import matplotlib.pyplot\n",
    "import matplotlib.collections\n",
    "%matplotlib inline\n",
    "from PIL import Image\n",
    "\n",
    "img = Image.open('/tmp/output.png')\n",
    "img = img.transpose(Image.Transpose.FLIP_TOP_BOTTOM)\n",
    "fig = matplotlib.pyplot.figure()\n",
    "ax = fig.subplots()\n",
    "ax.imshow(img, origin='lower', extent=(gfx_pos_bb_left, gfx_pos_bb_right, gfx_pos_bb_bottom, gfx_pos_bb_top))\n",
    "\n",
    "def hexplot(ax, data, cmap):\n",
    "    def verts(x, y):\n",
    "        patch = matplotlib.patches.RegularPolygon((x*2 + y, math.sqrt(3) * y), 6, radius=math.sqrt(4/3), color=cmap(data[y, x], alpha=0.5))\n",
    "        return patch\n",
    "    c = matplotlib.collections.PatchCollection([verts(x, y) for x in range(NN_W) for y in range(NN_H)], match_original=True)\n",
    "    return c\n",
    "\n",
    "import numpy as np\n",
    "inputs = np.load('/tmp/inputs.npz')\n",
    "inputs\n",
    "\n",
    "print(inputs['spatiotemporal'].shape)\n",
    "cmap = matplotlib.colormaps['viridis']\n",
    "feature_id = 0\n",
    "ax.add_collection(hexplot(ax, inputs['spatiotemporal'][0, feature_id, 0], cmap))\n",
    "fig.colorbar(matplotlib.cm.ScalarMappable(cmap=cmap),\n",
    "             ax=ax,\n",
    "             orientation='horizontal')\n",
    "matplotlib.pyplot.show()"
   ]
  },
  {
   "cell_type": "code",
   "execution_count": null,
   "id": "f92b814b-eb96-4fb8-9e42-5aaadf15b17c",
   "metadata": {},
   "outputs": [],
   "source": [
    "repl.close()\n",
    "del repl"
   ]
  },
  {
   "cell_type": "code",
   "execution_count": null,
   "id": "de0fd467-1ebb-47fb-b70b-5ca75a18ab31",
   "metadata": {},
   "outputs": [],
   "source": []
  }
 ],
 "metadata": {
  "kernelspec": {
   "display_name": "Python 3 (ipykernel)",
   "language": "python",
   "name": "python3"
  },
  "language_info": {
   "codemirror_mode": {
    "name": "ipython",
    "version": 3
   },
   "file_extension": ".py",
   "mimetype": "text/x-python",
   "name": "python",
   "nbconvert_exporter": "python",
   "pygments_lexer": "ipython3",
   "version": "3.12.7"
  }
 },
 "nbformat": 4,
 "nbformat_minor": 5
}
